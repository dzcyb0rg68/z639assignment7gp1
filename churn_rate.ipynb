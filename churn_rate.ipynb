{
 "metadata": {
  "language_info": {
   "codemirror_mode": {
    "name": "ipython",
    "version": 3
   },
   "file_extension": ".py",
   "mimetype": "text/x-python",
   "name": "python",
   "nbconvert_exporter": "python",
   "pygments_lexer": "ipython3",
   "version": "3.8.3-final"
  },
  "orig_nbformat": 2,
  "kernelspec": {
   "name": "python3",
   "display_name": "Python 3.8.3 64-bit (conda)",
   "metadata": {
    "interpreter": {
     "hash": "ecf5722fdaf1897a315d257d89d94520bfcaa453217d5becf09b39e73618b0de"
    }
   }
  }
 },
 "nbformat": 4,
 "nbformat_minor": 2,
 "cells": [
  {
   "cell_type": "code",
   "execution_count": 5,
   "metadata": {},
   "outputs": [],
   "source": [
    "import pandas as pd\n",
    "from collections import defaultdict\n",
    "import json"
   ]
  },
  {
   "cell_type": "code",
   "execution_count": 20,
   "metadata": {},
   "outputs": [
    {
     "output_type": "execute_result",
     "data": {
      "text/plain": [
       "{'2018-01': 0,\n",
       " '2018-02': 174,\n",
       " '2018-03': 143,\n",
       " '2018-04': 149,\n",
       " '2018-05': 164,\n",
       " '2018-06': 178,\n",
       " '2018-07': 191,\n",
       " '2018-08': 201,\n",
       " '2018-09': 207,\n",
       " '2018-10': 221,\n",
       " '2018-11': 193,\n",
       " '2018-12': 241,\n",
       " '2019-01': 254,\n",
       " '2019-02': 242,\n",
       " '2019-03': 211,\n",
       " '2019-04': 215,\n",
       " '2019-05': 237,\n",
       " '2019-06': 212}"
      ]
     },
     "metadata": {},
     "execution_count": 20
    }
   ],
   "source": [
    "hulu = pd.read_json('Hulu.json', lines=True)\n",
    "hulu.head(3)\n",
    "\n",
    "\n",
    "user_last_list = []\n",
    "chrun_user = {}\n",
    "active_user_count = 0\n",
    "for month in hulu['date_year_month'].unique().tolist():\n",
    "    user_this_list = hulu[hulu['date_year_month'] == month]['author'].unique().tolist()\n",
    "\n",
    "    for user in user_last_list:\n",
    "        user_this_list.append(user)\n",
    "    \n",
    "    freq = defaultdict(int)\n",
    "    for user in user_this_list:\n",
    "        freq[user] += 1\n",
    "    \n",
    "    for key in freq:\n",
    "        if freq[key] > 1:\n",
    "            active_user_count += 1\n",
    "    \n",
    "    chrun_user[month] = active_user_count\n",
    "    active_user_count = 0\n",
    "    user_last_list = hulu[hulu['date_year_month'] == month]['author'].unique().tolist()\n",
    "\n",
    "chrun_user"
   ]
  },
  {
   "cell_type": "code",
   "execution_count": 16,
   "metadata": {},
   "outputs": [
    {
     "output_type": "execute_result",
     "data": {
      "text/plain": [
       "873"
      ]
     },
     "metadata": {},
     "execution_count": 16
    }
   ],
   "source": [
    "len(hulu['author'].unique().tolist())\n",
    "\n",
    "len(hulu[hulu['date_year_month'] == '2018-01']['author'].unique().tolist())"
   ]
  },
  {
   "cell_type": "code",
   "execution_count": 23,
   "metadata": {},
   "outputs": [
    {
     "output_type": "execute_result",
     "data": {
      "text/plain": [
       "{'2018-01': 0,\n",
       " '2018-02': 1260,\n",
       " '2018-03': 1146,\n",
       " '2018-04': 1072,\n",
       " '2018-05': 1148,\n",
       " '2018-06': 982,\n",
       " '2018-07': 983,\n",
       " '2018-08': 1254,\n",
       " '2018-09': 1226,\n",
       " '2018-10': 1095,\n",
       " '2018-11': 1220,\n",
       " '2018-12': 1380,\n",
       " '2019-01': 1916,\n",
       " '2019-02': 1720,\n",
       " '2019-03': 1419,\n",
       " '2019-04': 1424,\n",
       " '2019-05': 1346,\n",
       " '2019-06': 1168}"
      ]
     },
     "metadata": {},
     "execution_count": 23
    }
   ],
   "source": [
    "netflix = pd.read_json('netflix.json', lines=True)\n",
    "\n",
    "user_last_list = []\n",
    "chrun_user = {}\n",
    "active_user_count = 0\n",
    "for month in netflix['date_year_month'].unique().tolist():\n",
    "    user_this_list = netflix[netflix['date_year_month'] == month]['author'].unique().tolist()\n",
    "\n",
    "    for user in user_last_list:\n",
    "        user_this_list.append(user)\n",
    "    \n",
    "    freq = defaultdict(int)\n",
    "    for user in user_this_list:\n",
    "        freq[user] += 1\n",
    "    \n",
    "    for key in freq:\n",
    "        if freq[key] > 1:\n",
    "            active_user_count += 1\n",
    "    \n",
    "    chrun_user[month] = active_user_count\n",
    "    active_user_count = 0\n",
    "    user_last_list = netflix[netflix['date_year_month'] == month]['author'].unique().tolist()\n",
    "\n",
    "chrun_user"
   ]
  },
  {
   "cell_type": "code",
   "execution_count": null,
   "metadata": {},
   "outputs": [],
   "source": []
  }
 ]
}